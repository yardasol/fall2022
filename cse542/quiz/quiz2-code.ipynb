{
 "cells": [
  {
   "cell_type": "code",
   "execution_count": 52,
   "id": "2a315385",
   "metadata": {},
   "outputs": [],
   "source": [
    "import pandas as pd\n",
    "from sklearn.linear_model import LinearRegression\n",
    "import numpy as np\n",
    "import matplotlib.pyplot as plt"
   ]
  },
  {
   "cell_type": "code",
   "execution_count": 9,
   "id": "eac034bc",
   "metadata": {},
   "outputs": [],
   "source": [
    "df = pd.read_csv('Q2Auto.data')"
   ]
  },
  {
   "cell_type": "code",
   "execution_count": 44,
   "id": "b6496b32",
   "metadata": {},
   "outputs": [],
   "source": [
    "y = np.reshape(np.array(df['mpg']), (len(df['mpg']), 1))\n",
    "x = np.reshape(np.array(df['displacement']), (len(df['displacement']), 1))"
   ]
  },
  {
   "cell_type": "code",
   "execution_count": 56,
   "id": "0e336ad2",
   "metadata": {},
   "outputs": [],
   "source": [
    "model = LinearRegression().fit(x, y)"
   ]
  },
  {
   "cell_type": "code",
   "execution_count": 64,
   "id": "6fa54e88",
   "metadata": {},
   "outputs": [
    {
     "data": {
      "text/plain": [
       "0.6482294003193044"
      ]
     },
     "execution_count": 64,
     "metadata": {},
     "output_type": "execute_result"
    }
   ],
   "source": [
    "model.score(x, y)"
   ]
  },
  {
   "cell_type": "code",
   "execution_count": 58,
   "id": "7bfa2e06",
   "metadata": {},
   "outputs": [
    {
     "data": {
      "text/plain": [
       "array([35.12063594])"
      ]
     },
     "execution_count": 58,
     "metadata": {},
     "output_type": "execute_result"
    }
   ],
   "source": [
    "model.intercept_"
   ]
  },
  {
   "cell_type": "code",
   "execution_count": 59,
   "id": "21db992c",
   "metadata": {},
   "outputs": [
    {
     "data": {
      "text/plain": [
       "array([[-0.06005143]])"
      ]
     },
     "execution_count": 59,
     "metadata": {},
     "output_type": "execute_result"
    }
   ],
   "source": [
    "model.coef_"
   ]
  },
  {
   "cell_type": "code",
   "execution_count": 63,
   "id": "a8b792ee",
   "metadata": {},
   "outputs": [
    {
     "data": {
      "text/plain": [
       "[<matplotlib.lines.Line2D at 0x7f3aa28be320>]"
      ]
     },
     "execution_count": 63,
     "metadata": {},
     "output_type": "execute_result"
    },
    {
     "data": {
      "image/png": "[encoded data removed]",
      "text/plain": [
       "<Figure size 432x288 with 1 Axes>"
      ]
     },
     "metadata": {
      "needs_background": "light"
     },
     "output_type": "display_data"
    }
   ],
   "source": [
    "yhat = model.predict(x)\n",
    "plt.scatter(x, y)\n",
    "plt.plot(x,yhat)"
   ]
  },
  {
   "cell_type": "code",
   "execution_count": 74,
   "id": "8efa5c73",
   "metadata": {},
   "outputs": [],
   "source": [
    "x = df[['cylinders', 'displacement', 'weight', 'acceleration', 'year', 'origin']].to_numpy()"
   ]
  },
  {
   "cell_type": "code",
   "execution_count": 75,
   "id": "7462c62c",
   "metadata": {},
   "outputs": [],
   "source": [
    "model = LinearRegression().fit(x, y)"
   ]
  },
  {
   "cell_type": "code",
   "execution_count": 76,
   "id": "e7afa6ea",
   "metadata": {},
   "outputs": [
    {
     "data": {
      "text/plain": [
       "0.8207752863388874"
      ]
     },
     "execution_count": 76,
     "metadata": {},
     "output_type": "execute_result"
    }
   ],
   "source": [
    "model.score(x, y)"
   ]
  },
  {
   "cell_type": "code",
   "execution_count": 77,
   "id": "9c2ff58f",
   "metadata": {},
   "outputs": [
    {
     "data": {
      "text/plain": [
       "array([-19.74379824])"
      ]
     },
     "execution_count": 77,
     "metadata": {},
     "output_type": "execute_result"
    }
   ],
   "source": [
    "model.intercept_"
   ]
  },
  {
   "cell_type": "code",
   "execution_count": 78,
   "id": "6e30dcb5",
   "metadata": {},
   "outputs": [
    {
     "data": {
      "text/plain": [
       "array([[-0.4446973 ,  0.01718579, -0.00683849,  0.15566427,  0.76471634,\n",
       "         1.34603294]])"
      ]
     },
     "execution_count": 78,
     "metadata": {},
     "output_type": "execute_result"
    }
   ],
   "source": [
    "model.coef_"
   ]
  },
  {
   "cell_type": "code",
   "execution_count": 139,
   "id": "5c166814",
   "metadata": {},
   "outputs": [
    {
     "data": {
      "text/plain": [
       "141.0"
      ]
     },
     "execution_count": 139,
     "metadata": {},
     "output_type": "execute_result"
    }
   ],
   "source": [
    "bs = np.array([50, 20, 0.07, 35, 0.01, -10])\n",
    "iq = 100\n",
    "#iq /= 100\n",
    "bs = np.array([50, 20, 0.07, 35, 0.01, -10])\n",
    "gpa = 4.0\n",
    "gender = 0\n",
    "yp = np.dot(bs, np.array([1, gpa, iq, gender, gpa*iq, gpa*gender]))\n",
    "yp"
   ]
  },
  {
   "cell_type": "code",
   "execution_count": 140,
   "id": "f32a5599",
   "metadata": {},
   "outputs": [],
   "source": [
    "ws = np.array([50,20,0.07,0.01])\n",
    "y = np.dot(ws, np.array([1,gpa,iq,gpa*iq]))"
   ]
  },
  {
   "cell_type": "code",
   "execution_count": 141,
   "id": "296f4dbe",
   "metadata": {},
   "outputs": [
    {
     "data": {
      "text/plain": [
       "141.0"
      ]
     },
     "execution_count": 141,
     "metadata": {},
     "output_type": "execute_result"
    }
   ],
   "source": [
    "y"
   ]
  },
  {
   "cell_type": "code",
   "execution_count": 136,
   "id": "3c075ff3",
   "metadata": {},
   "outputs": [
    {
     "data": {
      "text/plain": [
       "85.0"
      ]
     },
     "execution_count": 136,
     "metadata": {},
     "output_type": "execute_result"
    }
   ],
   "source": [
    "bs[0] + bs[3]"
   ]
  },
  {
   "cell_type": "code",
   "execution_count": null,
   "id": "ef47e00e",
   "metadata": {},
   "outputs": [],
   "source": [
    "# b0 + b1*A + b2*B + b3*C + b4*A*B + b5*A*C\n",
    "# b0 + b1*A + b2*B + b3 + b4*A*B + b5*A\n",
    "# b0 + b3 + (b1 + b5)*A"
   ]
  }
 ],
 "metadata": {
  "kernelspec": {
   "display_name": "Python [conda env:viz] *",
   "language": "python",
   "name": "conda-env-viz-py"
  },
  "language_info": {
   "codemirror_mode": {
    "name": "ipython",
    "version": 3
   },
   "file_extension": ".py",
   "mimetype": "text/x-python",
   "name": "python",
   "nbconvert_exporter": "python",
   "pygments_lexer": "ipython3",
   "version": "3.10.2"
  }
 },
 "nbformat": 4,
 "nbformat_minor": 5
}
