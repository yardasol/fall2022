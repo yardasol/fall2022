{
 "cells": [
  {
   "cell_type": "code",
   "execution_count": 1,
   "id": "798a9d9c",
   "metadata": {},
   "outputs": [],
   "source": [
    "import pandas as pd\n",
    "from sklearn.linear_model import LinearRegression\n",
    "import numpy as np\n",
    "from rpy2.robjects.packages import importr\n",
    "from rpy2 import robjects"
   ]
  },
  {
   "cell_type": "code",
   "execution_count": 2,
   "id": "268fb9fb",
   "metadata": {},
   "outputs": [],
   "source": [
    "df = pd.read_table(\"https://web.stanford.edu/~hastie/ElemStatLearn/datasets/prostate.data\", header=0)"
   ]
  },
  {
   "cell_type": "code",
   "execution_count": 3,
   "id": "d5611357",
   "metadata": {},
   "outputs": [],
   "source": [
    "df = df.drop('Unnamed: 0', axis=1)"
   ]
  },
  {
   "cell_type": "code",
   "execution_count": 4,
   "id": "f08cd6ce",
   "metadata": {},
   "outputs": [],
   "source": [
    "train = df.loc[df['train'] == 'T']\n",
    "train = train.drop('train', axis=1)\n",
    "test = df.loc[df['train'] == 'F']\n",
    "test = test.drop('train', axis=1)"
   ]
  },
  {
   "cell_type": "code",
   "execution_count": 5,
   "id": "4300dca3",
   "metadata": {},
   "outputs": [],
   "source": [
    "XTrain = train.drop('lpsa', axis=1)\n",
    "YTrain = train['lpsa']\n",
    "XTest = test.drop('lpsa', axis=1)\n",
    "YTest = test['lpsa']"
   ]
  },
  {
   "cell_type": "code",
   "execution_count": 6,
   "id": "0d98e9a1",
   "metadata": {},
   "outputs": [
    {
     "data": {
      "text/html": [
       "<div>\n",
       "<style scoped>\n",
       "    .dataframe tbody tr th:only-of-type {\n",
       "        vertical-align: middle;\n",
       "    }\n",
       "\n",
       "    .dataframe tbody tr th {\n",
       "        vertical-align: top;\n",
       "    }\n",
       "\n",
       "    .dataframe thead th {\n",
       "        text-align: right;\n",
       "    }\n",
       "</style>\n",
       "<table border=\"1\" class=\"dataframe\">\n",
       "  <thead>\n",
       "    <tr style=\"text-align: right;\">\n",
       "      <th></th>\n",
       "      <th>lcavol</th>\n",
       "      <th>lweight</th>\n",
       "      <th>age</th>\n",
       "      <th>lbph</th>\n",
       "      <th>svi</th>\n",
       "      <th>lcp</th>\n",
       "      <th>gleason</th>\n",
       "      <th>pgg45</th>\n",
       "    </tr>\n",
       "  </thead>\n",
       "  <tbody>\n",
       "    <tr>\n",
       "      <th>0</th>\n",
       "      <td>-0.579818</td>\n",
       "      <td>2.769459</td>\n",
       "      <td>50</td>\n",
       "      <td>-1.386294</td>\n",
       "      <td>0</td>\n",
       "      <td>-1.386294</td>\n",
       "      <td>6</td>\n",
       "      <td>0</td>\n",
       "    </tr>\n",
       "    <tr>\n",
       "      <th>1</th>\n",
       "      <td>-0.994252</td>\n",
       "      <td>3.319626</td>\n",
       "      <td>58</td>\n",
       "      <td>-1.386294</td>\n",
       "      <td>0</td>\n",
       "      <td>-1.386294</td>\n",
       "      <td>6</td>\n",
       "      <td>0</td>\n",
       "    </tr>\n",
       "    <tr>\n",
       "      <th>2</th>\n",
       "      <td>-0.510826</td>\n",
       "      <td>2.691243</td>\n",
       "      <td>74</td>\n",
       "      <td>-1.386294</td>\n",
       "      <td>0</td>\n",
       "      <td>-1.386294</td>\n",
       "      <td>7</td>\n",
       "      <td>20</td>\n",
       "    </tr>\n",
       "    <tr>\n",
       "      <th>3</th>\n",
       "      <td>-1.203973</td>\n",
       "      <td>3.282789</td>\n",
       "      <td>58</td>\n",
       "      <td>-1.386294</td>\n",
       "      <td>0</td>\n",
       "      <td>-1.386294</td>\n",
       "      <td>6</td>\n",
       "      <td>0</td>\n",
       "    </tr>\n",
       "    <tr>\n",
       "      <th>4</th>\n",
       "      <td>0.751416</td>\n",
       "      <td>3.432373</td>\n",
       "      <td>62</td>\n",
       "      <td>-1.386294</td>\n",
       "      <td>0</td>\n",
       "      <td>-1.386294</td>\n",
       "      <td>6</td>\n",
       "      <td>0</td>\n",
       "    </tr>\n",
       "    <tr>\n",
       "      <th>...</th>\n",
       "      <td>...</td>\n",
       "      <td>...</td>\n",
       "      <td>...</td>\n",
       "      <td>...</td>\n",
       "      <td>...</td>\n",
       "      <td>...</td>\n",
       "      <td>...</td>\n",
       "      <td>...</td>\n",
       "    </tr>\n",
       "    <tr>\n",
       "      <th>90</th>\n",
       "      <td>3.246491</td>\n",
       "      <td>4.101817</td>\n",
       "      <td>68</td>\n",
       "      <td>-1.386294</td>\n",
       "      <td>0</td>\n",
       "      <td>-1.386294</td>\n",
       "      <td>6</td>\n",
       "      <td>0</td>\n",
       "    </tr>\n",
       "    <tr>\n",
       "      <th>91</th>\n",
       "      <td>2.532903</td>\n",
       "      <td>3.677566</td>\n",
       "      <td>61</td>\n",
       "      <td>1.348073</td>\n",
       "      <td>1</td>\n",
       "      <td>-1.386294</td>\n",
       "      <td>7</td>\n",
       "      <td>15</td>\n",
       "    </tr>\n",
       "    <tr>\n",
       "      <th>92</th>\n",
       "      <td>2.830268</td>\n",
       "      <td>3.876396</td>\n",
       "      <td>68</td>\n",
       "      <td>-1.386294</td>\n",
       "      <td>1</td>\n",
       "      <td>1.321756</td>\n",
       "      <td>7</td>\n",
       "      <td>60</td>\n",
       "    </tr>\n",
       "    <tr>\n",
       "      <th>93</th>\n",
       "      <td>3.821004</td>\n",
       "      <td>3.896909</td>\n",
       "      <td>44</td>\n",
       "      <td>-1.386294</td>\n",
       "      <td>1</td>\n",
       "      <td>2.169054</td>\n",
       "      <td>7</td>\n",
       "      <td>40</td>\n",
       "    </tr>\n",
       "    <tr>\n",
       "      <th>95</th>\n",
       "      <td>2.882564</td>\n",
       "      <td>3.773910</td>\n",
       "      <td>68</td>\n",
       "      <td>1.558145</td>\n",
       "      <td>1</td>\n",
       "      <td>1.558145</td>\n",
       "      <td>7</td>\n",
       "      <td>80</td>\n",
       "    </tr>\n",
       "  </tbody>\n",
       "</table>\n",
       "<p>67 rows × 8 columns</p>\n",
       "</div>"
      ],
      "text/plain": [
       "      lcavol   lweight  age      lbph  svi       lcp  gleason  pgg45\n",
       "0  -0.579818  2.769459   50 -1.386294    0 -1.386294        6      0\n",
       "1  -0.994252  3.319626   58 -1.386294    0 -1.386294        6      0\n",
       "2  -0.510826  2.691243   74 -1.386294    0 -1.386294        7     20\n",
       "3  -1.203973  3.282789   58 -1.386294    0 -1.386294        6      0\n",
       "4   0.751416  3.432373   62 -1.386294    0 -1.386294        6      0\n",
       "..       ...       ...  ...       ...  ...       ...      ...    ...\n",
       "90  3.246491  4.101817   68 -1.386294    0 -1.386294        6      0\n",
       "91  2.532903  3.677566   61  1.348073    1 -1.386294        7     15\n",
       "92  2.830268  3.876396   68 -1.386294    1  1.321756        7     60\n",
       "93  3.821004  3.896909   44 -1.386294    1  2.169054        7     40\n",
       "95  2.882564  3.773910   68  1.558145    1  1.558145        7     80\n",
       "\n",
       "[67 rows x 8 columns]"
      ]
     },
     "execution_count": 6,
     "metadata": {},
     "output_type": "execute_result"
    }
   ],
   "source": [
    "XTrain"
   ]
  },
  {
   "cell_type": "code",
   "execution_count": 7,
   "id": "2fe612f6",
   "metadata": {},
   "outputs": [],
   "source": [
    "model = LinearRegression().fit(XTrain, YTrain)"
   ]
  },
  {
   "cell_type": "code",
   "execution_count": 9,
   "id": "5fc04b80",
   "metadata": {},
   "outputs": [],
   "source": [
    "diff = (YTest - model.predict(XTest)).to_numpy()"
   ]
  },
  {
   "cell_type": "code",
   "execution_count": 10,
   "id": "d5e3eb1d",
   "metadata": {},
   "outputs": [
    {
     "data": {
      "text/plain": [
       "0.5212740055076021"
      ]
     },
     "execution_count": 10,
     "metadata": {},
     "output_type": "execute_result"
    }
   ],
   "source": [
    "np.average(diff**2)"
   ]
  },
  {
   "cell_type": "code",
   "execution_count": null,
   "id": "c8dbca13",
   "metadata": {},
   "outputs": [],
   "source": [
    "## R code\n",
    "library(leaps)\n",
    "prostate = read.table(\"https://web.stanford.edu/~hastie/ElemStatLearn/datasets/prostate.data\", header = TRUE)\n",
    "traindata = prostate[prostate$train==TRUE,]\n",
    "testdata = prostate[prostate$train==FALSE,]\n",
    "XTest = subset(testdata, select = -c(lpsa, train))\n",
    "YTest = testdata['lpsa']\n",
    "\n",
    "XTrain = subset(traindata, select = -c(lpsa, train))\n",
    "YTrain = traindata['lpsa']\n",
    "a<-regsubsets(x=as.matrix(XTrain), y=as.matrix(YTrain), method=\"exhaustive\")\n",
    "summary(a)\n",
    "summary(a)$bic\n",
    "summary(a)$cp"
   ]
  },
  {
   "cell_type": "code",
   "execution_count": 11,
   "id": "84d976ec",
   "metadata": {},
   "outputs": [],
   "source": [
    "model = LinearRegression().fit(XTrain.drop('gleason', axis=1), YTrain)"
   ]
  },
  {
   "cell_type": "code",
   "execution_count": 13,
   "id": "1b131bab",
   "metadata": {},
   "outputs": [],
   "source": [
    "diff = ((YTest - model.predict(XTest.drop('gleason', axis=1))).to_numpy())"
   ]
  },
  {
   "cell_type": "code",
   "execution_count": 14,
   "id": "88863281",
   "metadata": {},
   "outputs": [
    {
     "data": {
      "text/plain": [
       "array([-1.19441306, -0.12676099, -0.20618032, -0.50646109, -0.896755  ,\n",
       "       -0.19105716, -0.26128873, -0.02747193,  0.02398375,  0.70077009,\n",
       "       -0.87170875,  0.09111369,  0.18749243, -0.22560225, -0.08238666,\n",
       "        0.42353359,  0.29604709, -0.33171158, -0.521401  ,  1.37849472,\n",
       "       -0.56906749, -0.81966008,  0.35184892,  0.14594899,  0.4007994 ,\n",
       "       -0.44291302,  0.34794137,  0.23667312,  2.00050002,  1.80706936])"
      ]
     },
     "execution_count": 14,
     "metadata": {},
     "output_type": "execute_result"
    }
   ],
   "source": [
    "diff"
   ]
  },
  {
   "cell_type": "code",
   "execution_count": 16,
   "id": "82867904",
   "metadata": {},
   "outputs": [
    {
     "data": {
      "text/plain": [
       "0.5165134875586007"
      ]
     },
     "execution_count": 16,
     "metadata": {},
     "output_type": "execute_result"
    }
   ],
   "source": [
    "np.average(diff**2)"
   ]
  },
  {
   "cell_type": "code",
   "execution_count": 17,
   "id": "049e5e29",
   "metadata": {},
   "outputs": [],
   "source": [
    "model = LinearRegression().fit(XTrain.drop(['gleason','svi','age','lcp','pgg45','lbph'], axis=1), YTrain)"
   ]
  },
  {
   "cell_type": "code",
   "execution_count": 18,
   "id": "7cd220bb",
   "metadata": {},
   "outputs": [],
   "source": [
    "diff = (YTest - model.predict(XTest.drop(['gleason','svi','age','lcp','pgg45','lbph'], axis=1))).to_numpy()"
   ]
  },
  {
   "cell_type": "code",
   "execution_count": 19,
   "id": "1a16f3b0",
   "metadata": {},
   "outputs": [
    {
     "data": {
      "text/plain": [
       "0.49248234768050364"
      ]
     },
     "execution_count": 19,
     "metadata": {},
     "output_type": "execute_result"
    }
   ],
   "source": [
    "np.average(diff**2)"
   ]
  },
  {
   "cell_type": "code",
   "execution_count": null,
   "id": "69a2c157",
   "metadata": {},
   "outputs": [],
   "source": []
  }
 ],
 "metadata": {
  "kernelspec": {
   "display_name": "Python [conda env:viz] *",
   "language": "python",
   "name": "conda-env-viz-py"
  },
  "language_info": {
   "codemirror_mode": {
    "name": "ipython",
    "version": 3
   },
   "file_extension": ".py",
   "mimetype": "text/x-python",
   "name": "python",
   "nbconvert_exporter": "python",
   "pygments_lexer": "ipython3",
   "version": "3.10.2"
  }
 },
 "nbformat": 4,
 "nbformat_minor": 5
}
