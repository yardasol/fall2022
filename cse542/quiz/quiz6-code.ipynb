{
 "cells": [
  {
   "cell_type": "code",
   "execution_count": 100,
   "id": "25672368",
   "metadata": {},
   "outputs": [],
   "source": [
    "import numpy as np"
   ]
  },
  {
   "cell_type": "code",
   "execution_count": 9,
   "id": "8dcd4bcf",
   "metadata": {},
   "outputs": [],
   "source": [
    "coords = [(1,4), (1,3), (0,4), (5,1), (6,2), (4,0)]\n",
    "c1 = coords[0]\n",
    "c2 = coords[1]"
   ]
  },
  {
   "cell_type": "code",
   "execution_count": 10,
   "id": "e6c27a74",
   "metadata": {},
   "outputs": [
    {
     "data": {
      "text/plain": [
       "(1, 4)"
      ]
     },
     "execution_count": 10,
     "metadata": {},
     "output_type": "execute_result"
    }
   ],
   "source": [
    "c1"
   ]
  },
  {
   "cell_type": "code",
   "execution_count": 11,
   "id": "0279a6ab",
   "metadata": {},
   "outputs": [
    {
     "data": {
      "text/plain": [
       "(1, 3)"
      ]
     },
     "execution_count": 11,
     "metadata": {},
     "output_type": "execute_result"
    }
   ],
   "source": [
    "c2"
   ]
  },
  {
   "cell_type": "code",
   "execution_count": 12,
   "id": "6706bc80",
   "metadata": {},
   "outputs": [],
   "source": [
    "clust1s = []\n",
    "clust2s = []\n",
    "\n",
    "def get_clust_center(clust):\n",
    "    cx = 0\n",
    "    cy = 0\n",
    "    for (x, y) in clust:\n",
    "        cx += x\n",
    "        cy += y\n",
    "    cx /= len(clust)\n",
    "    cy /= len(clust)\n",
    "    return (cx, cy)"
   ]
  },
  {
   "cell_type": "code",
   "execution_count": 13,
   "id": "4939a64e",
   "metadata": {},
   "outputs": [],
   "source": [
    "for i in range(0,1):\n",
    "    clust1 = []\n",
    "    clust2 = []\n",
    "    for coord in coords:\n",
    "        if coord == c1:\n",
    "            clust1.append(coord)\n",
    "        elif coord == c2:\n",
    "            clust2.append(coord)\n",
    "        else:\n",
    "            d1 = np.sqrt((coord[0] - c1[0])**2 + (coord[1] - c1[1])**2)\n",
    "            d2 = np.sqrt((coord[0] - c2[0])**2 + (coord[1] - c2[1])**2)\n",
    "\n",
    "            if d1 > d2:\n",
    "                clust2.append(coord)\n",
    "            else:\n",
    "                clust1.append(coord)\n",
    "    c1 = get_clust_center(clust1)\n",
    "    c2 = get_clust_center(clust2)\n",
    "    clust1s.append(clust1)\n",
    "    clust2s.append(clust2)\n",
    "            \n",
    "\n",
    "            "
   ]
  },
  {
   "cell_type": "code",
   "execution_count": 14,
   "id": "e808aef6",
   "metadata": {},
   "outputs": [
    {
     "data": {
      "text/plain": [
       "[(1, 4), (0, 4)]"
      ]
     },
     "execution_count": 14,
     "metadata": {},
     "output_type": "execute_result"
    }
   ],
   "source": [
    "clust1"
   ]
  },
  {
   "cell_type": "code",
   "execution_count": 15,
   "id": "93cb52d5",
   "metadata": {},
   "outputs": [
    {
     "data": {
      "text/plain": [
       "[(1, 3), (5, 1), (6, 2), (4, 0)]"
      ]
     },
     "execution_count": 15,
     "metadata": {},
     "output_type": "execute_result"
    }
   ],
   "source": [
    "clust2"
   ]
  },
  {
   "cell_type": "code",
   "execution_count": 16,
   "id": "99fe422c",
   "metadata": {},
   "outputs": [
    {
     "data": {
      "text/plain": [
       "(0.5, 4.0)"
      ]
     },
     "execution_count": 16,
     "metadata": {},
     "output_type": "execute_result"
    }
   ],
   "source": [
    "c1"
   ]
  },
  {
   "cell_type": "code",
   "execution_count": 17,
   "id": "d12751ae",
   "metadata": {},
   "outputs": [
    {
     "data": {
      "text/plain": [
       "(4.0, 1.5)"
      ]
     },
     "execution_count": 17,
     "metadata": {},
     "output_type": "execute_result"
    }
   ],
   "source": [
    "c2"
   ]
  },
  {
   "cell_type": "markdown",
   "id": "f03fe449",
   "metadata": {},
   "source": [
    "Question 15-26"
   ]
  },
  {
   "cell_type": "code",
   "execution_count": 80,
   "id": "7ba0a434",
   "metadata": {},
   "outputs": [],
   "source": [
    "def pppp(z1, z1z2, x1z1, x2z2):\n",
    "    return z1 * z1z2 * x1z1 * x2z2\n",
    "\n",
    "p11 = pppp(0.5, 0.6, 1/6, 1/6)\n",
    "p12 = pppp(0.5, 0.4, 1/6, 1/10)\n",
    "p21 = pppp(0.5, 0.4, 1/10, 1/6)\n",
    "p22 = pppp(0.5, 0.6, 1/10, 1/10)\n",
    "\n",
    "p = p11 + p12 + p21 + p22\n",
    "\n",
    "pz11z21 = p11/p\n",
    "pz11z22 = p12/p\n",
    "pz12z21 = p21/p\n",
    "pz12z22 = p22/p"
   ]
  },
  {
   "cell_type": "code",
   "execution_count": 98,
   "id": "11379a33",
   "metadata": {},
   "outputs": [
    {
     "data": {
      "text/plain": [
       "0.16666666666666666"
      ]
     },
     "execution_count": 98,
     "metadata": {},
     "output_type": "execute_result"
    }
   ],
   "source": [
    "1/6"
   ]
  },
  {
   "cell_type": "code",
   "execution_count": 94,
   "id": "e97bf47a",
   "metadata": {},
   "outputs": [
    {
     "data": {
      "text/plain": [
       "0.16666666666666669"
      ]
     },
     "execution_count": 94,
     "metadata": {},
     "output_type": "execute_result"
    }
   ],
   "source": [
    "pz12z22"
   ]
  },
  {
   "cell_type": "code",
   "execution_count": 86,
   "id": "6b0e8d95",
   "metadata": {},
   "outputs": [
    {
     "data": {
      "text/plain": [
       "0.3518518518518519"
      ]
     },
     "execution_count": 86,
     "metadata": {},
     "output_type": "execute_result"
    }
   ],
   "source": [
    "# P(Z1=2|X1=1,X2=1)\n",
    "\n",
    "pz12 = pz12z21 + pz12z22\n",
    "pz12 # = 19/54"
   ]
  },
  {
   "cell_type": "code",
   "execution_count": 87,
   "id": "fc6eedac",
   "metadata": {},
   "outputs": [
    {
     "data": {
      "text/plain": [
       "0.35185185185185186"
      ]
     },
     "execution_count": 87,
     "metadata": {},
     "output_type": "execute_result"
    }
   ],
   "source": [
    "19/54"
   ]
  },
  {
   "cell_type": "code",
   "execution_count": 91,
   "id": "b09ce6a2",
   "metadata": {},
   "outputs": [],
   "source": [
    "# P(Z2=2|X1=1,X2=1)\n",
    "\n",
    "pz22 = pz12z22 + pz11z22 # == 19/54"
   ]
  },
  {
   "cell_type": "code",
   "execution_count": 92,
   "id": "6f2699b0",
   "metadata": {},
   "outputs": [
    {
     "data": {
      "text/plain": [
       "0.35185185185185186"
      ]
     },
     "execution_count": 92,
     "metadata": {},
     "output_type": "execute_result"
    }
   ],
   "source": [
    "pz22"
   ]
  },
  {
   "cell_type": "markdown",
   "id": "45b4b66f",
   "metadata": {},
   "source": [
    "Question 27-31"
   ]
  },
  {
   "cell_type": "code",
   "execution_count": 112,
   "id": "7472e74e",
   "metadata": {},
   "outputs": [],
   "source": [
    "x = np.array([5,15,25,30,40])\n",
    "r1 = np.array([0.2, 0.2, 0.8, 0.9, 0.9])\n",
    "r2 = np.array([0.8, 0.8, 0.2, 0.1, 0.1])"
   ]
  },
  {
   "cell_type": "code",
   "execution_count": 113,
   "id": "dd1ee821",
   "metadata": {},
   "outputs": [
    {
     "data": {
      "text/plain": [
       "0.6"
      ]
     },
     "execution_count": 113,
     "metadata": {},
     "output_type": "execute_result"
    }
   ],
   "source": [
    "w1 = np.average(r1)\n",
    "w1"
   ]
  },
  {
   "cell_type": "code",
   "execution_count": 114,
   "id": "7aa9235a",
   "metadata": {},
   "outputs": [
    {
     "data": {
      "text/plain": [
       "0.4"
      ]
     },
     "execution_count": 114,
     "metadata": {},
     "output_type": "execute_result"
    }
   ],
   "source": [
    "w2 = np.average(r2)\n",
    "w2"
   ]
  },
  {
   "cell_type": "code",
   "execution_count": 115,
   "id": "26d9c05f",
   "metadata": {},
   "outputs": [
    {
     "data": {
      "text/plain": [
       "29.0"
      ]
     },
     "execution_count": 115,
     "metadata": {},
     "output_type": "execute_result"
    }
   ],
   "source": [
    "mu1 = np.sum(x*r1)/np.sum(r1)\n",
    "mu1"
   ]
  },
  {
   "cell_type": "code",
   "execution_count": 116,
   "id": "5f2d5b04",
   "metadata": {},
   "outputs": [
    {
     "data": {
      "text/plain": [
       "14.0"
      ]
     },
     "execution_count": 116,
     "metadata": {},
     "output_type": "execute_result"
    }
   ],
   "source": [
    "mu2 = np.sum(x*r2)/np.sum(r2)\n",
    "mu2"
   ]
  },
  {
   "cell_type": "code",
   "execution_count": null,
   "id": "99ce298f",
   "metadata": {},
   "outputs": [],
   "source": []
  }
 ],
 "metadata": {
  "kernelspec": {
   "display_name": "Python 3 (ipykernel)",
   "language": "python",
   "name": "python3"
  },
  "language_info": {
   "codemirror_mode": {
    "name": "ipython",
    "version": 3
   },
   "file_extension": ".py",
   "mimetype": "text/x-python",
   "name": "python",
   "nbconvert_exporter": "python",
   "pygments_lexer": "ipython3",
   "version": "3.10.2"
  }
 },
 "nbformat": 4,
 "nbformat_minor": 5
}
