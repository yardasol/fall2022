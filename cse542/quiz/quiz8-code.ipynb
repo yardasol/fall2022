{
 "cells": [
  {
   "cell_type": "markdown",
   "id": "2216db6c",
   "metadata": {},
   "source": [
    "Question 1, 2"
   ]
  },
  {
   "cell_type": "code",
   "execution_count": 36,
   "id": "dd8cab36",
   "metadata": {},
   "outputs": [
    {
     "data": {
      "text/html": [
       "0.268941421369995"
      ],
      "text/latex": [
       "0.268941421369995"
      ],
      "text/markdown": [
       "0.268941421369995"
      ],
      "text/plain": [
       "[1] 0.2689414"
      ]
     },
     "metadata": {},
     "output_type": "display_data"
    }
   ],
   "source": [
    "b0 = -6\n",
    "b1 = 0.5\n",
    "b2 = 1\n",
    "\n",
    "x1 = 3\n",
    "x2 = 3.5\n",
    "\n",
    "logodds = b0 + b1*x1 + b2 * x2\n",
    "p = exp(logodds) / (1 + exp(logodds))\n",
    "p"
   ]
  },
  {
   "cell_type": "code",
   "execution_count": 37,
   "id": "786f075a",
   "metadata": {},
   "outputs": [
    {
     "data": {
      "text/html": [
       "0.5"
      ],
      "text/latex": [
       "0.5"
      ],
      "text/markdown": [
       "0.5"
      ],
      "text/plain": [
       "[1] 0.5"
      ]
     },
     "metadata": {},
     "output_type": "display_data"
    }
   ],
   "source": [
    "x1 = 5\n",
    "logodds = b0 + b1*x1 + b2 * x2\n",
    "p = exp(logodds) / (1 + exp(logodds))\n",
    "p"
   ]
  },
  {
   "cell_type": "markdown",
   "id": "78a25761",
   "metadata": {},
   "source": [
    "Question 3"
   ]
  },
  {
   "cell_type": "code",
   "execution_count": 67,
   "id": "cafb93a6",
   "metadata": {},
   "outputs": [
    {
     "data": {
      "text/html": [
       "0.5"
      ],
      "text/latex": [
       "0.5"
      ],
      "text/markdown": [
       "0.5"
      ],
      "text/plain": [
       "[1] 0.5"
      ]
     },
     "metadata": {},
     "output_type": "display_data"
    }
   ],
   "source": [
    "b0 = 6\n",
    "b1 = 0\n",
    "b2 = -1\n",
    "\n",
    "x1 = 0\n",
    "x2 = 6\n",
    "\n",
    "logodds = b0 + b1*x1 + b2 * x2\n",
    "p = exp(logodds) / (1 + exp(logodds))\n",
    "p"
   ]
  },
  {
   "cell_type": "markdown",
   "id": "593287be",
   "metadata": {},
   "source": [
    "Question 5, 6, 7"
   ]
  },
  {
   "cell_type": "code",
   "execution_count": 5,
   "id": "8be0148f",
   "metadata": {},
   "outputs": [],
   "source": [
    "library(\"ISLR\")\n",
    "data(\"Caravan\")"
   ]
  },
  {
   "cell_type": "code",
   "execution_count": 6,
   "id": "3fb06926",
   "metadata": {},
   "outputs": [
    {
     "ename": "ERROR",
     "evalue": "Error in eval(expr, envir, enclos): object 'X' not found\n",
     "output_type": "error",
     "traceback": [
      "Error in eval(expr, envir, enclos): object 'X' not found\nTraceback:\n"
     ]
    }
   ],
   "source": [
    "X"
   ]
  },
  {
   "cell_type": "code",
   "execution_count": null,
   "id": "87565cbf",
   "metadata": {},
   "outputs": [],
   "source": []
  }
 ],
 "metadata": {
  "kernelspec": {
   "display_name": "R",
   "language": "R",
   "name": "ir"
  },
  "language_info": {
   "codemirror_mode": "r",
   "file_extension": ".r",
   "mimetype": "text/x-r-source",
   "name": "R",
   "pygments_lexer": "r",
   "version": "4.1.2"
  }
 },
 "nbformat": 4,
 "nbformat_minor": 5
}
