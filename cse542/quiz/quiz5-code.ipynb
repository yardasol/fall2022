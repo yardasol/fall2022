{
 "cells": [
  {
   "cell_type": "markdown",
   "id": "17419e34",
   "metadata": {},
   "source": [
    "Question 8"
   ]
  },
  {
   "cell_type": "code",
   "execution_count": 1,
   "id": "20c44395",
   "metadata": {},
   "outputs": [],
   "source": [
    "library(MASS)\n",
    "attach(Boston)"
   ]
  },
  {
   "cell_type": "code",
   "execution_count": 2,
   "id": "b6f06cd4",
   "metadata": {},
   "outputs": [],
   "source": [
    "nox = as.matrix(Boston['nox'])[,]"
   ]
  },
  {
   "cell_type": "code",
   "execution_count": 3,
   "id": "86aacfa0",
   "metadata": {},
   "outputs": [],
   "source": [
    "fit = lm(nox ~ poly(dis, 3), data = Boston)"
   ]
  },
  {
   "cell_type": "code",
   "execution_count": 4,
   "id": "3e44966d",
   "metadata": {},
   "outputs": [],
   "source": [
    "noxhat = predict(fit, newdata=list(dis=Boston['dis'][,]))"
   ]
  },
  {
   "cell_type": "code",
   "execution_count": 5,
   "id": "88d3c152",
   "metadata": {},
   "outputs": [
    {
     "data": {
      "text/html": [
       "1.93410670717907"
      ],
      "text/latex": [
       "1.93410670717907"
      ],
      "text/markdown": [
       "1.93410670717907"
      ],
      "text/plain": [
       "[1] 1.934107"
      ]
     },
     "metadata": {},
     "output_type": "display_data"
    }
   ],
   "source": [
    "deviance(fit)"
   ]
  },
  {
   "cell_type": "code",
   "execution_count": 6,
   "id": "bfe76500",
   "metadata": {},
   "outputs": [
    {
     "data": {
      "text/html": [
       "1.93410670717907"
      ],
      "text/latex": [
       "1.93410670717907"
      ],
      "text/markdown": [
       "1.93410670717907"
      ],
      "text/plain": [
       "[1] 1.934107"
      ]
     },
     "metadata": {},
     "output_type": "display_data"
    }
   ],
   "source": [
    "sum((nox - noxhat)^2)"
   ]
  },
  {
   "cell_type": "markdown",
   "id": "ba4dc675",
   "metadata": {},
   "source": [
    "Question 9"
   ]
  },
  {
   "cell_type": "code",
   "execution_count": 7,
   "id": "054c8745",
   "metadata": {},
   "outputs": [
    {
     "data": {
      "text/html": [
       "<strong>1:</strong> 0.439874526524364"
      ],
      "text/latex": [
       "\\textbf{1:} 0.439874526524364"
      ],
      "text/markdown": [
       "**1:** 0.439874526524364"
      ],
      "text/plain": [
       "        1 \n",
       "0.4398745 "
      ]
     },
     "metadata": {},
     "output_type": "display_data"
    }
   ],
   "source": [
    "predict(fit, newdata=list(dis=6))"
   ]
  },
  {
   "cell_type": "code",
   "execution_count": 8,
   "id": "534ebd44",
   "metadata": {},
   "outputs": [
    {
     "data": {
      "text/plain": [
       "\n",
       "Call:\n",
       "lm(formula = nox ~ poly(dis, 3), data = Boston)\n",
       "\n",
       "Coefficients:\n",
       "  (Intercept)  poly(dis, 3)1  poly(dis, 3)2  poly(dis, 3)3  \n",
       "       0.5547        -2.0031         0.8563        -0.3180  \n"
      ]
     },
     "metadata": {},
     "output_type": "display_data"
    }
   ],
   "source": [
    "fit"
   ]
  },
  {
   "cell_type": "markdown",
   "id": "d1380ad8",
   "metadata": {},
   "source": [
    "Question 11"
   ]
  },
  {
   "cell_type": "code",
   "execution_count": 9,
   "id": "1b0792be",
   "metadata": {},
   "outputs": [
    {
     "data": {
      "text/html": [
       "1.93298132729859"
      ],
      "text/latex": [
       "1.93298132729859"
      ],
      "text/markdown": [
       "1.93298132729859"
      ],
      "text/plain": [
       "[1] 1.932981"
      ]
     },
     "metadata": {},
     "output_type": "display_data"
    }
   ],
   "source": [
    "fit = lm(nox ~ poly(dis, 4), data = Boston)\n",
    "noxhat = predict(fit, newdata=list(dis=Boston['dis'][,]))\n",
    "deviance(fit)"
   ]
  },
  {
   "cell_type": "markdown",
   "id": "ca999ecb",
   "metadata": {},
   "source": [
    "Question 12"
   ]
  },
  {
   "cell_type": "code",
   "execution_count": 10,
   "id": "a2ea632c",
   "metadata": {},
   "outputs": [
    {
     "data": {
      "text/html": [
       "<strong>1:</strong> 0.441451190299573"
      ],
      "text/latex": [
       "\\textbf{1:} 0.441451190299573"
      ],
      "text/markdown": [
       "**1:** 0.441451190299573"
      ],
      "text/plain": [
       "        1 \n",
       "0.4414512 "
      ]
     },
     "metadata": {},
     "output_type": "display_data"
    }
   ],
   "source": [
    "predict(fit, newdata=list(dis=6))"
   ]
  },
  {
   "cell_type": "markdown",
   "id": "fee4a9b4",
   "metadata": {},
   "source": [
    "Question 14"
   ]
  },
  {
   "cell_type": "code",
   "execution_count": 14,
   "id": "79bc176c",
   "metadata": {},
   "outputs": [],
   "source": [
    "library(splines)"
   ]
  },
  {
   "cell_type": "code",
   "execution_count": 15,
   "id": "1144d843",
   "metadata": {},
   "outputs": [],
   "source": [
    "myfit1 = lm(nox ~ bs(dis, df=3), data=Boston)"
   ]
  },
  {
   "cell_type": "code",
   "execution_count": 17,
   "id": "fe9fcc7b",
   "metadata": {},
   "outputs": [
    {
     "data": {
      "text/html": [
       "<table class=\"dataframe\">\n",
       "<caption>A matrix: 4 × 4 of type dbl</caption>\n",
       "<thead>\n",
       "\t<tr><th></th><th scope=col>Estimate</th><th scope=col>Std. Error</th><th scope=col>t value</th><th scope=col>Pr(&gt;|t|)</th></tr>\n",
       "</thead>\n",
       "<tbody>\n",
       "\t<tr><th scope=row>(Intercept)</th><td> 0.755</td><td>0.008</td><td> 91.168</td><td>0</td></tr>\n",
       "\t<tr><th scope=row>bs(dis, df = 3)1</th><td>-0.498</td><td>0.033</td><td>-15.312</td><td>0</td></tr>\n",
       "\t<tr><th scope=row>bs(dis, df = 3)2</th><td>-0.234</td><td>0.037</td><td> -6.312</td><td>0</td></tr>\n",
       "\t<tr><th scope=row>bs(dis, df = 3)3</th><td>-0.383</td><td>0.045</td><td> -8.419</td><td>0</td></tr>\n",
       "</tbody>\n",
       "</table>\n"
      ],
      "text/latex": [
       "A matrix: 4 × 4 of type dbl\n",
       "\\begin{tabular}{r|llll}\n",
       "  & Estimate & Std. Error & t value & Pr(>\\textbar{}t\\textbar{})\\\\\n",
       "\\hline\n",
       "\t(Intercept) &  0.755 & 0.008 &  91.168 & 0\\\\\n",
       "\tbs(dis, df = 3)1 & -0.498 & 0.033 & -15.312 & 0\\\\\n",
       "\tbs(dis, df = 3)2 & -0.234 & 0.037 &  -6.312 & 0\\\\\n",
       "\tbs(dis, df = 3)3 & -0.383 & 0.045 &  -8.419 & 0\\\\\n",
       "\\end{tabular}\n"
      ],
      "text/markdown": [
       "\n",
       "A matrix: 4 × 4 of type dbl\n",
       "\n",
       "| <!--/--> | Estimate | Std. Error | t value | Pr(&gt;|t|) |\n",
       "|---|---|---|---|---|\n",
       "| (Intercept) |  0.755 | 0.008 |  91.168 | 0 |\n",
       "| bs(dis, df = 3)1 | -0.498 | 0.033 | -15.312 | 0 |\n",
       "| bs(dis, df = 3)2 | -0.234 | 0.037 |  -6.312 | 0 |\n",
       "| bs(dis, df = 3)3 | -0.383 | 0.045 |  -8.419 | 0 |\n",
       "\n"
      ],
      "text/plain": [
       "                 Estimate Std. Error t value Pr(>|t|)\n",
       "(Intercept)       0.755   0.008       91.168 0       \n",
       "bs(dis, df = 3)1 -0.498   0.033      -15.312 0       \n",
       "bs(dis, df = 3)2 -0.234   0.037       -6.312 0       \n",
       "bs(dis, df = 3)3 -0.383   0.045       -8.419 0       "
      ]
     },
     "metadata": {},
     "output_type": "display_data"
    }
   ],
   "source": [
    "round(summary(myfit1)$coef, dig = 3)"
   ]
  },
  {
   "cell_type": "code",
   "execution_count": null,
   "id": "a36d0375",
   "metadata": {},
   "outputs": [],
   "source": []
  }
 ],
 "metadata": {
  "kernelspec": {
   "display_name": "R",
   "language": "R",
   "name": "ir"
  },
  "language_info": {
   "codemirror_mode": "r",
   "file_extension": ".r",
   "mimetype": "text/x-r-source",
   "name": "R",
   "pygments_lexer": "r",
   "version": "4.1.2"
  }
 },
 "nbformat": 4,
 "nbformat_minor": 5
}
