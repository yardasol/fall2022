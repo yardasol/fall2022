{
 "cells": [
  {
   "cell_type": "code",
   "execution_count": null,
   "id": "20c44395",
   "metadata": {},
   "outputs": [],
   "source": [
    "library(MASS)\n",
    "attach(Boston)"
   ]
  },
  {
   "cell_type": "code",
   "execution_count": null,
   "id": "b6f06cd4",
   "metadata": {},
   "outputs": [],
   "source": [
    "#X = as.matrix(Boston[,c('dis','nox')])\n",
    "X = as.matrix(Boston['dis'])"
   ]
  },
  {
   "cell_type": "code",
   "execution_count": null,
   "id": "86aacfa0",
   "metadata": {},
   "outputs": [],
   "source": [
    "fit = lm(nox ~ poly(X, 3), data = Boston)"
   ]
  },
  {
   "cell_type": "code",
   "execution_count": null,
   "id": "3e44966d",
   "metadata": {},
   "outputs": [],
   "source": [
    "noxhat = predict(fit, newdata=Boston['nox'])"
   ]
  },
  {
   "cell_type": "code",
   "execution_count": null,
   "id": "88d3c152",
   "metadata": {},
   "outputs": [],
   "source": []
  }
 ],
 "metadata": {
  "kernelspec": {
   "display_name": "R",
   "language": "R",
   "name": "ir"
  },
  "language_info": {
   "codemirror_mode": "r",
   "file_extension": ".r",
   "mimetype": "text/x-r-source",
   "name": "R",
   "pygments_lexer": "r",
   "version": "4.1.2"
  }
 },
 "nbformat": 4,
 "nbformat_minor": 5
}
