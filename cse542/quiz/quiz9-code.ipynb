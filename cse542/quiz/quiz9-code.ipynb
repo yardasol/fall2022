{
 "cells": [
  {
   "cell_type": "code",
   "execution_count": 1,
   "id": "6b52d18c",
   "metadata": {},
   "outputs": [],
   "source": [
    "X2 = c(2,2)\n",
    "X3 = c(4,4)\n",
    "X6 = c(4,3)\n",
    "\n",
    "l2 = 1\n",
    "l3 = 3\n",
    "l6 = 4\n",
    "\n",
    "y2 = 1\n",
    "y3 = 1\n",
    "y6 = -1"
   ]
  },
  {
   "cell_type": "code",
   "execution_count": 5,
   "id": "83be75df",
   "metadata": {},
   "outputs": [
    {
     "data": {
      "text/html": [
       "<style>\n",
       ".list-inline {list-style: none; margin:0; padding: 0}\n",
       ".list-inline>li {display: inline-block}\n",
       ".list-inline>li:not(:last-child)::after {content: \"\\00b7\"; padding: 0 .5ex}\n",
       "</style>\n",
       "<ol class=list-inline><li>-2</li><li>2</li></ol>\n"
      ],
      "text/latex": [
       "\\begin{enumerate*}\n",
       "\\item -2\n",
       "\\item 2\n",
       "\\end{enumerate*}\n"
      ],
      "text/markdown": [
       "1. -2\n",
       "2. 2\n",
       "\n",
       "\n"
      ],
      "text/plain": [
       "[1] -2  2"
      ]
     },
     "metadata": {},
     "output_type": "display_data"
    }
   ],
   "source": [
    "B = l2*y2*X2 + l3*y3*X3 + l6*y6*X6\n",
    "B"
   ]
  },
  {
   "cell_type": "code",
   "execution_count": 8,
   "id": "f7de7def",
   "metadata": {},
   "outputs": [
    {
     "data": {
      "text/html": [
       "-1"
      ],
      "text/latex": [
       "-1"
      ],
      "text/markdown": [
       "-1"
      ],
      "text/plain": [
       "[1] -1"
      ]
     },
     "metadata": {},
     "output_type": "display_data"
    }
   ],
   "source": [
    "x = X6\n",
    "B[1] * x[1] + B[2] * x[2] + 1"
   ]
  },
  {
   "cell_type": "markdown",
   "id": "8392ba73",
   "metadata": {},
   "source": [
    "REst of quiz"
   ]
  },
  {
   "cell_type": "code",
   "execution_count": null,
   "id": "1ffde535",
   "metadata": {},
   "outputs": [],
   "source": [
    "library(e1071)\n",
    "spam = read.table(file=\"https://web.stanford.edu/~hastie/ElemStatLearn/datasets/spam.data\")\n",
    "names(spam)[58] = \"Y\"\n",
    "spam$Y = as.factor(spam$Y)\n",
    "testID = c(1:100, 1901:1960)\n",
    "spam.test=spam[testID, ]; \n",
    "spam.train=spam[-testID, ];\n",
    "  \n",
    "## Linear SVM  \n",
    "svmfit=svm(Y ~., kernel=\"linear\", data=spam.train, cost=1)\n",
    "summary(svmfit)\n",
    "table(spam.train$Y, svmfit$fitted)\n",
    "svmpred=predict(svmfit, newdata=spam.test)\n",
    "table(spam.test$Y, svmpred)\n",
    "\n",
    "## Gaussian kernel SVM  \n",
    "svmfit=svm(Y ~., data=spam.train, cost=1)\n",
    "summary(svmfit)"
   ]
  },
  {
   "cell_type": "code",
   "execution_count": null,
   "id": "fa47f443",
   "metadata": {},
   "outputs": [],
   "source": []
  }
 ],
 "metadata": {
  "kernelspec": {
   "display_name": "R",
   "language": "R",
   "name": "ir"
  },
  "language_info": {
   "codemirror_mode": "r",
   "file_extension": ".r",
   "mimetype": "text/x-r-source",
   "name": "R",
   "pygments_lexer": "r",
   "version": "4.1.2"
  }
 },
 "nbformat": 4,
 "nbformat_minor": 5
}
